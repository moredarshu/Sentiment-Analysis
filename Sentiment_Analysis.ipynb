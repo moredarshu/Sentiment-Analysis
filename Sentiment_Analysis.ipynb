{
 "cells": [
  {
   "cell_type": "code",
   "execution_count": 71,
   "metadata": {},
   "outputs": [],
   "source": [
    "## Import Libaries\n",
    "\n",
    "import numpy as np\n",
    "import pandas as pd\n",
    "import string\n",
    "import nltk\n",
    "import re\n",
    "from nltk.corpus import stopwords\n",
    "from sklearn.feature_extraction.text import CountVectorizer,TfidfVectorizer\n",
    "from nltk.stem import WordNetLemmatizer\n",
    "from sklearn.model_selection import train_test_split"
   ]
  },
  {
   "cell_type": "code",
   "execution_count": 72,
   "metadata": {},
   "outputs": [],
   "source": [
    "lm = WordNetLemmatizer()"
   ]
  },
  {
   "cell_type": "code",
   "execution_count": 73,
   "metadata": {},
   "outputs": [],
   "source": [
    "## Stop words\n",
    "sw = stopwords.words('english')"
   ]
  },
  {
   "cell_type": "code",
   "execution_count": 74,
   "metadata": {},
   "outputs": [
    {
     "data": {
      "text/html": [
       "<div>\n",
       "<style scoped>\n",
       "    .dataframe tbody tr th:only-of-type {\n",
       "        vertical-align: middle;\n",
       "    }\n",
       "\n",
       "    .dataframe tbody tr th {\n",
       "        vertical-align: top;\n",
       "    }\n",
       "\n",
       "    .dataframe thead th {\n",
       "        text-align: right;\n",
       "    }\n",
       "</style>\n",
       "<table border=\"1\" class=\"dataframe\">\n",
       "  <thead>\n",
       "    <tr style=\"text-align: right;\">\n",
       "      <th></th>\n",
       "      <th>0</th>\n",
       "    </tr>\n",
       "  </thead>\n",
       "  <tbody>\n",
       "    <tr>\n",
       "      <th>0</th>\n",
       "      <td>the rock is destined to be the 21st century's ...</td>\n",
       "    </tr>\n",
       "    <tr>\n",
       "      <th>1</th>\n",
       "      <td>the gorgeously elaborate continuation of \" the...</td>\n",
       "    </tr>\n",
       "    <tr>\n",
       "      <th>2</th>\n",
       "      <td>effective but too-tepid biopic</td>\n",
       "    </tr>\n",
       "    <tr>\n",
       "      <th>3</th>\n",
       "      <td>if you sometimes like to go to the movies to h...</td>\n",
       "    </tr>\n",
       "    <tr>\n",
       "      <th>4</th>\n",
       "      <td>emerges as something rare , an issue movie tha...</td>\n",
       "    </tr>\n",
       "    <tr>\n",
       "      <th>...</th>\n",
       "      <td>...</td>\n",
       "    </tr>\n",
       "    <tr>\n",
       "      <th>5326</th>\n",
       "      <td>both exuberantly romantic and serenely melanch...</td>\n",
       "    </tr>\n",
       "    <tr>\n",
       "      <th>5327</th>\n",
       "      <td>mazel tov to a film about a family's joyous li...</td>\n",
       "    </tr>\n",
       "    <tr>\n",
       "      <th>5328</th>\n",
       "      <td>standing in the shadows of motown is the best ...</td>\n",
       "    </tr>\n",
       "    <tr>\n",
       "      <th>5329</th>\n",
       "      <td>it's nice to see piscopo again after all these...</td>\n",
       "    </tr>\n",
       "    <tr>\n",
       "      <th>5330</th>\n",
       "      <td>provides a porthole into that noble , tremblin...</td>\n",
       "    </tr>\n",
       "  </tbody>\n",
       "</table>\n",
       "<p>5331 rows × 1 columns</p>\n",
       "</div>"
      ],
      "text/plain": [
       "                                                      0\n",
       "0     the rock is destined to be the 21st century's ...\n",
       "1     the gorgeously elaborate continuation of \" the...\n",
       "2                        effective but too-tepid biopic\n",
       "3     if you sometimes like to go to the movies to h...\n",
       "4     emerges as something rare , an issue movie tha...\n",
       "...                                                 ...\n",
       "5326  both exuberantly romantic and serenely melanch...\n",
       "5327  mazel tov to a film about a family's joyous li...\n",
       "5328  standing in the shadows of motown is the best ...\n",
       "5329  it's nice to see piscopo again after all these...\n",
       "5330  provides a porthole into that noble , tremblin...\n",
       "\n",
       "[5331 rows x 1 columns]"
      ]
     },
     "execution_count": 74,
     "metadata": {},
     "output_type": "execute_result"
    }
   ],
   "source": [
    "## Reading the positive data\n",
    "pos_rev = pd.read_csv(r'C:\\Users\\Darshana\\Desktop\\DSC_WKND20092020\\NLP\\netflix\\pos.txt',header=None,sep='\\n',encoding='latin-1')\n",
    "pos_rev"
   ]
  },
  {
   "cell_type": "code",
   "execution_count": 75,
   "metadata": {},
   "outputs": [
    {
     "data": {
      "text/html": [
       "<div>\n",
       "<style scoped>\n",
       "    .dataframe tbody tr th:only-of-type {\n",
       "        vertical-align: middle;\n",
       "    }\n",
       "\n",
       "    .dataframe tbody tr th {\n",
       "        vertical-align: top;\n",
       "    }\n",
       "\n",
       "    .dataframe thead th {\n",
       "        text-align: right;\n",
       "    }\n",
       "</style>\n",
       "<table border=\"1\" class=\"dataframe\">\n",
       "  <thead>\n",
       "    <tr style=\"text-align: right;\">\n",
       "      <th></th>\n",
       "      <th>review</th>\n",
       "      <th>mood</th>\n",
       "    </tr>\n",
       "  </thead>\n",
       "  <tbody>\n",
       "    <tr>\n",
       "      <th>0</th>\n",
       "      <td>the rock is destined to be the 21st century's ...</td>\n",
       "      <td>1.0</td>\n",
       "    </tr>\n",
       "    <tr>\n",
       "      <th>1</th>\n",
       "      <td>the gorgeously elaborate continuation of \" the...</td>\n",
       "      <td>1.0</td>\n",
       "    </tr>\n",
       "    <tr>\n",
       "      <th>2</th>\n",
       "      <td>effective but too-tepid biopic</td>\n",
       "      <td>1.0</td>\n",
       "    </tr>\n",
       "    <tr>\n",
       "      <th>3</th>\n",
       "      <td>if you sometimes like to go to the movies to h...</td>\n",
       "      <td>1.0</td>\n",
       "    </tr>\n",
       "    <tr>\n",
       "      <th>4</th>\n",
       "      <td>emerges as something rare , an issue movie tha...</td>\n",
       "      <td>1.0</td>\n",
       "    </tr>\n",
       "    <tr>\n",
       "      <th>...</th>\n",
       "      <td>...</td>\n",
       "      <td>...</td>\n",
       "    </tr>\n",
       "    <tr>\n",
       "      <th>5326</th>\n",
       "      <td>both exuberantly romantic and serenely melanch...</td>\n",
       "      <td>1.0</td>\n",
       "    </tr>\n",
       "    <tr>\n",
       "      <th>5327</th>\n",
       "      <td>mazel tov to a film about a family's joyous li...</td>\n",
       "      <td>1.0</td>\n",
       "    </tr>\n",
       "    <tr>\n",
       "      <th>5328</th>\n",
       "      <td>standing in the shadows of motown is the best ...</td>\n",
       "      <td>1.0</td>\n",
       "    </tr>\n",
       "    <tr>\n",
       "      <th>5329</th>\n",
       "      <td>it's nice to see piscopo again after all these...</td>\n",
       "      <td>1.0</td>\n",
       "    </tr>\n",
       "    <tr>\n",
       "      <th>5330</th>\n",
       "      <td>provides a porthole into that noble , tremblin...</td>\n",
       "      <td>1.0</td>\n",
       "    </tr>\n",
       "  </tbody>\n",
       "</table>\n",
       "<p>5331 rows × 2 columns</p>\n",
       "</div>"
      ],
      "text/plain": [
       "                                                 review  mood\n",
       "0     the rock is destined to be the 21st century's ...   1.0\n",
       "1     the gorgeously elaborate continuation of \" the...   1.0\n",
       "2                        effective but too-tepid biopic   1.0\n",
       "3     if you sometimes like to go to the movies to h...   1.0\n",
       "4     emerges as something rare , an issue movie tha...   1.0\n",
       "...                                                 ...   ...\n",
       "5326  both exuberantly romantic and serenely melanch...   1.0\n",
       "5327  mazel tov to a film about a family's joyous li...   1.0\n",
       "5328  standing in the shadows of motown is the best ...   1.0\n",
       "5329  it's nice to see piscopo again after all these...   1.0\n",
       "5330  provides a porthole into that noble , tremblin...   1.0\n",
       "\n",
       "[5331 rows x 2 columns]"
      ]
     },
     "execution_count": 75,
     "metadata": {},
     "output_type": "execute_result"
    }
   ],
   "source": [
    "## Creating Target Column & renaming the column\n",
    "pos_rev['mood'] = 1.0\n",
    "pos_rev = pos_rev.rename(columns={0:'review'})\n",
    "pos_rev"
   ]
  },
  {
   "cell_type": "code",
   "execution_count": 76,
   "metadata": {},
   "outputs": [
    {
     "data": {
      "text/html": [
       "<div>\n",
       "<style scoped>\n",
       "    .dataframe tbody tr th:only-of-type {\n",
       "        vertical-align: middle;\n",
       "    }\n",
       "\n",
       "    .dataframe tbody tr th {\n",
       "        vertical-align: top;\n",
       "    }\n",
       "\n",
       "    .dataframe thead th {\n",
       "        text-align: right;\n",
       "    }\n",
       "</style>\n",
       "<table border=\"1\" class=\"dataframe\">\n",
       "  <thead>\n",
       "    <tr style=\"text-align: right;\">\n",
       "      <th></th>\n",
       "      <th>review</th>\n",
       "      <th>mood</th>\n",
       "    </tr>\n",
       "  </thead>\n",
       "  <tbody>\n",
       "    <tr>\n",
       "      <th>0</th>\n",
       "      <td>simplistic , silly and tedious.</td>\n",
       "      <td>0.0</td>\n",
       "    </tr>\n",
       "    <tr>\n",
       "      <th>1</th>\n",
       "      <td>it's so laddish and juvenile , only teenage bo...</td>\n",
       "      <td>0.0</td>\n",
       "    </tr>\n",
       "    <tr>\n",
       "      <th>2</th>\n",
       "      <td>exploitative and largely devoid of the depth o...</td>\n",
       "      <td>0.0</td>\n",
       "    </tr>\n",
       "    <tr>\n",
       "      <th>3</th>\n",
       "      <td>[garbus] discards the potential for pathologic...</td>\n",
       "      <td>0.0</td>\n",
       "    </tr>\n",
       "    <tr>\n",
       "      <th>4</th>\n",
       "      <td>a visually flashy but narratively opaque and e...</td>\n",
       "      <td>0.0</td>\n",
       "    </tr>\n",
       "    <tr>\n",
       "      <th>...</th>\n",
       "      <td>...</td>\n",
       "      <td>...</td>\n",
       "    </tr>\n",
       "    <tr>\n",
       "      <th>5326</th>\n",
       "      <td>a terrible movie that some people will neverth...</td>\n",
       "      <td>0.0</td>\n",
       "    </tr>\n",
       "    <tr>\n",
       "      <th>5327</th>\n",
       "      <td>there are many definitions of 'time waster' bu...</td>\n",
       "      <td>0.0</td>\n",
       "    </tr>\n",
       "    <tr>\n",
       "      <th>5328</th>\n",
       "      <td>as it stands , crocodile hunter has the hurrie...</td>\n",
       "      <td>0.0</td>\n",
       "    </tr>\n",
       "    <tr>\n",
       "      <th>5329</th>\n",
       "      <td>the thing looks like a made-for-home-video qui...</td>\n",
       "      <td>0.0</td>\n",
       "    </tr>\n",
       "    <tr>\n",
       "      <th>5330</th>\n",
       "      <td>enigma is well-made , but it's just too dry an...</td>\n",
       "      <td>0.0</td>\n",
       "    </tr>\n",
       "  </tbody>\n",
       "</table>\n",
       "<p>5331 rows × 2 columns</p>\n",
       "</div>"
      ],
      "text/plain": [
       "                                                 review  mood\n",
       "0                      simplistic , silly and tedious.    0.0\n",
       "1     it's so laddish and juvenile , only teenage bo...   0.0\n",
       "2     exploitative and largely devoid of the depth o...   0.0\n",
       "3     [garbus] discards the potential for pathologic...   0.0\n",
       "4     a visually flashy but narratively opaque and e...   0.0\n",
       "...                                                 ...   ...\n",
       "5326  a terrible movie that some people will neverth...   0.0\n",
       "5327  there are many definitions of 'time waster' bu...   0.0\n",
       "5328  as it stands , crocodile hunter has the hurrie...   0.0\n",
       "5329  the thing looks like a made-for-home-video qui...   0.0\n",
       "5330  enigma is well-made , but it's just too dry an...   0.0\n",
       "\n",
       "[5331 rows x 2 columns]"
      ]
     },
     "execution_count": 76,
     "metadata": {},
     "output_type": "execute_result"
    }
   ],
   "source": [
    "## Reading the negative data\n",
    "neg_rev = pd.read_csv(r'C:\\Users\\Darshana\\Desktop\\DSC_WKND20092020\\NLP\\netflix\\negative.txt',header=None,sep='\\n',encoding='latin-1')\n",
    "\n",
    "## Creating Target Column & renaming the column\n",
    "neg_rev['mood'] = 0.0\n",
    "neg_rev = neg_rev.rename(columns={0:'review'})\n",
    "neg_rev"
   ]
  },
  {
   "cell_type": "code",
   "execution_count": 77,
   "metadata": {},
   "outputs": [
    {
     "data": {
      "text/plain": [
       "0       rock destine 21st centurys new conan hes go ma...\n",
       "1       gorgeously elaborate continuation lord ring tr...\n",
       "2                               effective tootepid biopic\n",
       "3       sometimes like go movies fun wasabi good place...\n",
       "4       emerge something rare issue movie thats honest...\n",
       "                              ...                        \n",
       "5326    exuberantly romantic serenely melancholy time ...\n",
       "5327    mazel tov film familys joyous life act yiddish...\n",
       "5328    stand shadow motown best kind documentary one ...\n",
       "5329      nice see piscopo years chaykin headly priceless\n",
       "5330    provide porthole noble tremble incoherence def...\n",
       "Name: review, Length: 5331, dtype: object"
      ]
     },
     "execution_count": 77,
     "metadata": {},
     "output_type": "execute_result"
    }
   ],
   "source": [
    "pos_rev.loc[:,'review'] = pos_rev.loc[:,'review'].apply(lambda x:x.lower())\n",
    "pos_rev.loc[:,'review'] = pos_rev.loc[:,'review'].apply(lambda x:re.sub(r'@\\S+','',x))\n",
    "pos_rev.loc[:,'review'] = pos_rev.loc[:,'review'].apply(lambda x:x.translate(str.maketrans(dict.fromkeys((string.punctuation)))))\n",
    "pos_rev.loc[:,'review'] = pos_rev.loc[:,'review'].apply(lambda x: \" \".join([word for word in x.split() if word not in (sw)]))\n",
    "pos_rev.loc[:,'review'] = pos_rev.loc[:,'review'].apply(lambda x:\" \".join([lm.lemmatize(word,pos='v') for word in x.split()]))\n",
    "pos_rev.loc[:,'review']"
   ]
  },
  {
   "cell_type": "code",
   "execution_count": 78,
   "metadata": {},
   "outputs": [
    {
     "data": {
      "text/plain": [
       "0                        SIMPLISTIC , SILLY AND TEDIOUS. \n",
       "1       IT'S SO LADDISH AND JUVENILE , ONLY TEENAGE BO...\n",
       "2       EXPLOITATIVE AND LARGELY DEVOID OF THE DEPTH O...\n",
       "3       [GARBUS] DISCARDS THE POTENTIAL FOR PATHOLOGIC...\n",
       "4       A VISUALLY FLASHY BUT NARRATIVELY OPAQUE AND E...\n",
       "                              ...                        \n",
       "5326    A TERRIBLE MOVIE THAT SOME PEOPLE WILL NEVERTH...\n",
       "5327    THERE ARE MANY DEFINITIONS OF 'TIME WASTER' BU...\n",
       "5328    AS IT STANDS , CROCODILE HUNTER HAS THE HURRIE...\n",
       "5329    THE THING LOOKS LIKE A MADE-FOR-HOME-VIDEO QUI...\n",
       "5330    ENIGMA IS WELL-MADE , BUT IT'S JUST TOO DRY AN...\n",
       "Name: review, Length: 5331, dtype: object"
      ]
     },
     "execution_count": 78,
     "metadata": {},
     "output_type": "execute_result"
    }
   ],
   "source": [
    "neg_rev.loc[:,'review'] = neg_rev.loc[:,'review'].apply(lambda x:x.upper())\n",
    "neg_rev.loc[:,'review']"
   ]
  },
  {
   "cell_type": "code",
   "execution_count": 79,
   "metadata": {},
   "outputs": [
    {
     "data": {
      "text/plain": [
       "0                                simplistic silly tedious\n",
       "1       laddish juvenile teenage boys could possibly f...\n",
       "2       exploitative largely devoid depth sophisticati...\n",
       "3       garbus discard potential pathological study ex...\n",
       "4       visually flashy narratively opaque emotionally...\n",
       "                              ...                        \n",
       "5326         terrible movie people nevertheless find move\n",
       "5327    many definitions time waster movie must surely...\n",
       "5328    stand crocodile hunter hurry badly cobble look...\n",
       "5329             thing look like madeforhomevideo quickie\n",
       "5330                           enigma wellmade dry placid\n",
       "Name: review, Length: 5331, dtype: object"
      ]
     },
     "execution_count": 79,
     "metadata": {},
     "output_type": "execute_result"
    }
   ],
   "source": [
    "neg_rev.loc[:,'review'] = neg_rev.loc[:,'review'].apply(lambda x:x.lower())\n",
    "neg_rev.loc[:,'review'] = neg_rev.loc[:,'review'].apply(lambda x:re.sub(r'@\\S+','',x))\n",
    "neg_rev.loc[:,'review'] = neg_rev.loc[:,'review'].apply(lambda x:x.translate(str.maketrans(dict.fromkeys((string.punctuation)))))\n",
    "neg_rev.loc[:,'review'] = neg_rev.loc[:,'review'].apply(lambda x: \" \".join([word for word in x.split() if word not in (sw)]))\n",
    "neg_rev.loc[:,'review'] = neg_rev.loc[:,'review'].apply(lambda x:\" \".join([lm.lemmatize(word,pos='v') for word in x.split()]))\n",
    "neg_rev.loc[:,'review']"
   ]
  },
  {
   "cell_type": "code",
   "execution_count": 80,
   "metadata": {},
   "outputs": [
    {
     "data": {
      "text/html": [
       "<div>\n",
       "<style scoped>\n",
       "    .dataframe tbody tr th:only-of-type {\n",
       "        vertical-align: middle;\n",
       "    }\n",
       "\n",
       "    .dataframe tbody tr th {\n",
       "        vertical-align: top;\n",
       "    }\n",
       "\n",
       "    .dataframe thead th {\n",
       "        text-align: right;\n",
       "    }\n",
       "</style>\n",
       "<table border=\"1\" class=\"dataframe\">\n",
       "  <thead>\n",
       "    <tr style=\"text-align: right;\">\n",
       "      <th></th>\n",
       "      <th>index</th>\n",
       "      <th>review</th>\n",
       "      <th>mood</th>\n",
       "    </tr>\n",
       "  </thead>\n",
       "  <tbody>\n",
       "    <tr>\n",
       "      <th>0</th>\n",
       "      <td>0</td>\n",
       "      <td>rock destine 21st centurys new conan hes go ma...</td>\n",
       "      <td>1.0</td>\n",
       "    </tr>\n",
       "    <tr>\n",
       "      <th>1</th>\n",
       "      <td>1</td>\n",
       "      <td>gorgeously elaborate continuation lord ring tr...</td>\n",
       "      <td>1.0</td>\n",
       "    </tr>\n",
       "    <tr>\n",
       "      <th>2</th>\n",
       "      <td>2</td>\n",
       "      <td>effective tootepid biopic</td>\n",
       "      <td>1.0</td>\n",
       "    </tr>\n",
       "    <tr>\n",
       "      <th>3</th>\n",
       "      <td>3</td>\n",
       "      <td>sometimes like go movies fun wasabi good place...</td>\n",
       "      <td>1.0</td>\n",
       "    </tr>\n",
       "    <tr>\n",
       "      <th>4</th>\n",
       "      <td>4</td>\n",
       "      <td>emerge something rare issue movie thats honest...</td>\n",
       "      <td>1.0</td>\n",
       "    </tr>\n",
       "    <tr>\n",
       "      <th>...</th>\n",
       "      <td>...</td>\n",
       "      <td>...</td>\n",
       "      <td>...</td>\n",
       "    </tr>\n",
       "    <tr>\n",
       "      <th>10657</th>\n",
       "      <td>5326</td>\n",
       "      <td>terrible movie people nevertheless find move</td>\n",
       "      <td>0.0</td>\n",
       "    </tr>\n",
       "    <tr>\n",
       "      <th>10658</th>\n",
       "      <td>5327</td>\n",
       "      <td>many definitions time waster movie must surely...</td>\n",
       "      <td>0.0</td>\n",
       "    </tr>\n",
       "    <tr>\n",
       "      <th>10659</th>\n",
       "      <td>5328</td>\n",
       "      <td>stand crocodile hunter hurry badly cobble look...</td>\n",
       "      <td>0.0</td>\n",
       "    </tr>\n",
       "    <tr>\n",
       "      <th>10660</th>\n",
       "      <td>5329</td>\n",
       "      <td>thing look like madeforhomevideo quickie</td>\n",
       "      <td>0.0</td>\n",
       "    </tr>\n",
       "    <tr>\n",
       "      <th>10661</th>\n",
       "      <td>5330</td>\n",
       "      <td>enigma wellmade dry placid</td>\n",
       "      <td>0.0</td>\n",
       "    </tr>\n",
       "  </tbody>\n",
       "</table>\n",
       "<p>10662 rows × 3 columns</p>\n",
       "</div>"
      ],
      "text/plain": [
       "       index                                             review  mood\n",
       "0          0  rock destine 21st centurys new conan hes go ma...   1.0\n",
       "1          1  gorgeously elaborate continuation lord ring tr...   1.0\n",
       "2          2                          effective tootepid biopic   1.0\n",
       "3          3  sometimes like go movies fun wasabi good place...   1.0\n",
       "4          4  emerge something rare issue movie thats honest...   1.0\n",
       "...      ...                                                ...   ...\n",
       "10657   5326       terrible movie people nevertheless find move   0.0\n",
       "10658   5327  many definitions time waster movie must surely...   0.0\n",
       "10659   5328  stand crocodile hunter hurry badly cobble look...   0.0\n",
       "10660   5329           thing look like madeforhomevideo quickie   0.0\n",
       "10661   5330                         enigma wellmade dry placid   0.0\n",
       "\n",
       "[10662 rows x 3 columns]"
      ]
     },
     "execution_count": 80,
     "metadata": {},
     "output_type": "execute_result"
    }
   ],
   "source": [
    "com_rev = pd.concat([pos_rev,neg_rev],axis=0).reset_index()\n",
    "com_rev"
   ]
  },
  {
   "cell_type": "code",
   "execution_count": 81,
   "metadata": {},
   "outputs": [],
   "source": [
    "# Train Test Split\n",
    "xtrain,xtest,ytrain,ytest = train_test_split\\\n",
    "(com_rev['review'].values,com_rev['mood'].values,random_state=40,test_size=0.2)\n",
    "# xtrain"
   ]
  },
  {
   "cell_type": "code",
   "execution_count": 82,
   "metadata": {},
   "outputs": [],
   "source": [
    "train_data = pd.DataFrame({'review':xtrain,'mood':ytrain})\n",
    "test_data = pd.DataFrame({'review':xtest,'mood':ytest})\n"
   ]
  },
  {
   "cell_type": "code",
   "execution_count": 83,
   "metadata": {},
   "outputs": [
    {
     "data": {
      "text/html": [
       "<div>\n",
       "<style scoped>\n",
       "    .dataframe tbody tr th:only-of-type {\n",
       "        vertical-align: middle;\n",
       "    }\n",
       "\n",
       "    .dataframe tbody tr th {\n",
       "        vertical-align: top;\n",
       "    }\n",
       "\n",
       "    .dataframe thead th {\n",
       "        text-align: right;\n",
       "    }\n",
       "</style>\n",
       "<table border=\"1\" class=\"dataframe\">\n",
       "  <thead>\n",
       "    <tr style=\"text-align: right;\">\n",
       "      <th></th>\n",
       "      <th>review</th>\n",
       "      <th>mood</th>\n",
       "    </tr>\n",
       "  </thead>\n",
       "  <tbody>\n",
       "    <tr>\n",
       "      <th>0</th>\n",
       "      <td>enjoy hate later</td>\n",
       "      <td>1.0</td>\n",
       "    </tr>\n",
       "    <tr>\n",
       "      <th>1</th>\n",
       "      <td>remember kind movie hop ecks vs sever xxx go</td>\n",
       "      <td>1.0</td>\n",
       "    </tr>\n",
       "    <tr>\n",
       "      <th>2</th>\n",
       "      <td>spend screen series go star trek nemesis even ...</td>\n",
       "      <td>0.0</td>\n",
       "    </tr>\n",
       "    <tr>\n",
       "      <th>3</th>\n",
       "      <td>clutchy indulgent pretentious travelogue diatr...</td>\n",
       "      <td>0.0</td>\n",
       "    </tr>\n",
       "    <tr>\n",
       "      <th>4</th>\n",
       "      <td>suffer flat script low budget</td>\n",
       "      <td>0.0</td>\n",
       "    </tr>\n",
       "    <tr>\n",
       "      <th>...</th>\n",
       "      <td>...</td>\n",
       "      <td>...</td>\n",
       "    </tr>\n",
       "    <tr>\n",
       "      <th>8524</th>\n",
       "      <td>although try balance selfreferential humor nor...</td>\n",
       "      <td>0.0</td>\n",
       "    </tr>\n",
       "    <tr>\n",
       "      <th>8525</th>\n",
       "      <td>great fun sport aficionados ordinary louts who...</td>\n",
       "      <td>1.0</td>\n",
       "    </tr>\n",
       "    <tr>\n",
       "      <th>8526</th>\n",
       "      <td>isnt even movie enjoy mild escapism one fear f...</td>\n",
       "      <td>0.0</td>\n",
       "    </tr>\n",
       "    <tr>\n",
       "      <th>8527</th>\n",
       "      <td>dull mechanical kinda like goofy museum exhibit</td>\n",
       "      <td>0.0</td>\n",
       "    </tr>\n",
       "    <tr>\n",
       "      <th>8528</th>\n",
       "      <td>though bite patchwork script production glossy...</td>\n",
       "      <td>0.0</td>\n",
       "    </tr>\n",
       "  </tbody>\n",
       "</table>\n",
       "<p>8529 rows × 2 columns</p>\n",
       "</div>"
      ],
      "text/plain": [
       "                                                 review  mood\n",
       "0                                      enjoy hate later   1.0\n",
       "1          remember kind movie hop ecks vs sever xxx go   1.0\n",
       "2     spend screen series go star trek nemesis even ...   0.0\n",
       "3     clutchy indulgent pretentious travelogue diatr...   0.0\n",
       "4                         suffer flat script low budget   0.0\n",
       "...                                                 ...   ...\n",
       "8524  although try balance selfreferential humor nor...   0.0\n",
       "8525  great fun sport aficionados ordinary louts who...   1.0\n",
       "8526  isnt even movie enjoy mild escapism one fear f...   0.0\n",
       "8527    dull mechanical kinda like goofy museum exhibit   0.0\n",
       "8528  though bite patchwork script production glossy...   0.0\n",
       "\n",
       "[8529 rows x 2 columns]"
      ]
     },
     "execution_count": 83,
     "metadata": {},
     "output_type": "execute_result"
    }
   ],
   "source": [
    "train_data"
   ]
  },
  {
   "cell_type": "code",
   "execution_count": 84,
   "metadata": {},
   "outputs": [
    {
     "data": {
      "text/html": [
       "<div>\n",
       "<style scoped>\n",
       "    .dataframe tbody tr th:only-of-type {\n",
       "        vertical-align: middle;\n",
       "    }\n",
       "\n",
       "    .dataframe tbody tr th {\n",
       "        vertical-align: top;\n",
       "    }\n",
       "\n",
       "    .dataframe thead th {\n",
       "        text-align: right;\n",
       "    }\n",
       "</style>\n",
       "<table border=\"1\" class=\"dataframe\">\n",
       "  <thead>\n",
       "    <tr style=\"text-align: right;\">\n",
       "      <th></th>\n",
       "      <th>review</th>\n",
       "      <th>mood</th>\n",
       "    </tr>\n",
       "  </thead>\n",
       "  <tbody>\n",
       "    <tr>\n",
       "      <th>0</th>\n",
       "      <td>salton sea moments inspire humour though every...</td>\n",
       "      <td>1.0</td>\n",
       "    </tr>\n",
       "    <tr>\n",
       "      <th>1</th>\n",
       "      <td>demented kitsch mess although smeary digital v...</td>\n",
       "      <td>1.0</td>\n",
       "    </tr>\n",
       "    <tr>\n",
       "      <th>2</th>\n",
       "      <td>one slyly exquisite antiadult movies ever make</td>\n",
       "      <td>1.0</td>\n",
       "    </tr>\n",
       "    <tr>\n",
       "      <th>3</th>\n",
       "      <td>come away wish though movie spend lot less tim...</td>\n",
       "      <td>0.0</td>\n",
       "    </tr>\n",
       "    <tr>\n",
       "      <th>4</th>\n",
       "      <td>ultimately feel empty unsatisfying like swallo...</td>\n",
       "      <td>1.0</td>\n",
       "    </tr>\n",
       "    <tr>\n",
       "      <th>...</th>\n",
       "      <td>...</td>\n",
       "      <td>...</td>\n",
       "    </tr>\n",
       "    <tr>\n",
       "      <th>2128</th>\n",
       "      <td>maintain sympathy otherwise challenge soul let...</td>\n",
       "      <td>1.0</td>\n",
       "    </tr>\n",
       "    <tr>\n",
       "      <th>2129</th>\n",
       "      <td>meticulously uncover trail outrageous force cr...</td>\n",
       "      <td>1.0</td>\n",
       "    </tr>\n",
       "    <tr>\n",
       "      <th>2130</th>\n",
       "      <td>plot grow thin soon find pray quick resolution</td>\n",
       "      <td>0.0</td>\n",
       "    </tr>\n",
       "    <tr>\n",
       "      <th>2131</th>\n",
       "      <td>ingenuity parker display freshen play almost c...</td>\n",
       "      <td>1.0</td>\n",
       "    </tr>\n",
       "    <tr>\n",
       "      <th>2132</th>\n",
       "      <td>one greatest familyoriented fantasyadventure m...</td>\n",
       "      <td>1.0</td>\n",
       "    </tr>\n",
       "  </tbody>\n",
       "</table>\n",
       "<p>2133 rows × 2 columns</p>\n",
       "</div>"
      ],
      "text/plain": [
       "                                                 review  mood\n",
       "0     salton sea moments inspire humour though every...   1.0\n",
       "1     demented kitsch mess although smeary digital v...   1.0\n",
       "2        one slyly exquisite antiadult movies ever make   1.0\n",
       "3     come away wish though movie spend lot less tim...   0.0\n",
       "4     ultimately feel empty unsatisfying like swallo...   1.0\n",
       "...                                                 ...   ...\n",
       "2128  maintain sympathy otherwise challenge soul let...   1.0\n",
       "2129  meticulously uncover trail outrageous force cr...   1.0\n",
       "2130     plot grow thin soon find pray quick resolution   0.0\n",
       "2131  ingenuity parker display freshen play almost c...   1.0\n",
       "2132  one greatest familyoriented fantasyadventure m...   1.0\n",
       "\n",
       "[2133 rows x 2 columns]"
      ]
     },
     "execution_count": 84,
     "metadata": {},
     "output_type": "execute_result"
    }
   ],
   "source": [
    "test_data"
   ]
  },
  {
   "cell_type": "code",
   "execution_count": 85,
   "metadata": {},
   "outputs": [],
   "source": [
    "# vectorizer = TfidfVectorizer()\n",
    "# train_vectorizer = vectorizer.fit_transform(train_data['review'])\n",
    "# test_vectorizer = vectorizer.transform(test_data['review'])"
   ]
  },
  {
   "cell_type": "code",
   "execution_count": 86,
   "metadata": {},
   "outputs": [],
   "source": [
    "# test_vectorizer.toarray()"
   ]
  },
  {
   "cell_type": "code",
   "execution_count": 87,
   "metadata": {},
   "outputs": [],
   "source": [
    "# train_vectorizer.toarray()"
   ]
  },
  {
   "cell_type": "code",
   "execution_count": 88,
   "metadata": {},
   "outputs": [],
   "source": [
    "# from sklearn import svm\n",
    "# from sklearn.metrics import classification_report"
   ]
  },
  {
   "cell_type": "code",
   "execution_count": 89,
   "metadata": {},
   "outputs": [],
   "source": [
    "# classifier = svm.SVC(kernel='linear')\n",
    "# classifier.fit(train_vectorizer,train_data['mood'])\n"
   ]
  },
  {
   "cell_type": "code",
   "execution_count": 90,
   "metadata": {},
   "outputs": [],
   "source": [
    "# prediction = classifier.predict(test_vectorizer)\n",
    "# prediction"
   ]
  },
  {
   "cell_type": "code",
   "execution_count": 91,
   "metadata": {},
   "outputs": [],
   "source": [
    "# report = classification_report(test_data['mood'],prediction\n",
    "# #                                ,output_dict=True\n",
    "#                               )\n",
    "# print(report)"
   ]
  },
  {
   "cell_type": "code",
   "execution_count": 92,
   "metadata": {},
   "outputs": [],
   "source": [
    "# vectorizer_cnt = CountVectorizer()\n",
    "# train_vectorizer = vectorizer.fit_transform(train_data['review'])\n",
    "# test_vectorizer = vectorizer.transform(test_data['review'])"
   ]
  },
  {
   "cell_type": "code",
   "execution_count": 93,
   "metadata": {},
   "outputs": [],
   "source": [
    "# from sklearn import svm\n",
    "# from sklearn.metrics import classification_report"
   ]
  },
  {
   "cell_type": "code",
   "execution_count": 94,
   "metadata": {},
   "outputs": [],
   "source": [
    "# classifier = svm.SVC(kernel='linear')\n",
    "# classifier.fit(train_vectorizer,train_data['mood'])"
   ]
  },
  {
   "cell_type": "code",
   "execution_count": 95,
   "metadata": {},
   "outputs": [],
   "source": [
    "# prediction = classifier.predict(test_vectorizer)\n",
    "# prediction"
   ]
  },
  {
   "cell_type": "code",
   "execution_count": 96,
   "metadata": {},
   "outputs": [],
   "source": [
    "# report = classification_report(test_data['mood'],prediction\n",
    "# #                                ,output_dict=True\n",
    "#                               )\n",
    "# print(report)"
   ]
  },
  {
   "cell_type": "code",
   "execution_count": 97,
   "metadata": {},
   "outputs": [],
   "source": [
    "vectorizer = TfidfVectorizer()\n",
    "train_vectorizer = vectorizer.fit_transform(train_data['review'])\n",
    "test_vectorizer = vectorizer.transform(test_data['review'])"
   ]
  },
  {
   "cell_type": "code",
   "execution_count": 98,
   "metadata": {},
   "outputs": [
    {
     "data": {
      "text/plain": [
       "array([[0., 0., 0., ..., 0., 0., 0.],\n",
       "       [0., 0., 0., ..., 0., 0., 0.],\n",
       "       [0., 0., 0., ..., 0., 0., 0.],\n",
       "       ...,\n",
       "       [0., 0., 0., ..., 0., 0., 0.],\n",
       "       [0., 0., 0., ..., 0., 0., 0.],\n",
       "       [0., 0., 0., ..., 0., 0., 0.]])"
      ]
     },
     "execution_count": 98,
     "metadata": {},
     "output_type": "execute_result"
    }
   ],
   "source": [
    "train_vectorizer.toarray()"
   ]
  },
  {
   "cell_type": "code",
   "execution_count": 99,
   "metadata": {},
   "outputs": [
    {
     "data": {
      "text/plain": [
       "array([1., 1., 0., ..., 0., 0., 0.])"
      ]
     },
     "execution_count": 99,
     "metadata": {},
     "output_type": "execute_result"
    }
   ],
   "source": [
    "ytrain"
   ]
  },
  {
   "cell_type": "code",
   "execution_count": 100,
   "metadata": {},
   "outputs": [
    {
     "data": {
      "text/plain": [
       "GaussianNB()"
      ]
     },
     "execution_count": 100,
     "metadata": {},
     "output_type": "execute_result"
    }
   ],
   "source": [
    "from sklearn.naive_bayes import GaussianNB\n",
    "from sklearn.metrics import classification_report\n",
    "classifier = GaussianNB()\n",
    "classifier.fit(train_vectorizer.toarray(),ytrain)"
   ]
  },
  {
   "cell_type": "code",
   "execution_count": 101,
   "metadata": {},
   "outputs": [
    {
     "data": {
      "text/plain": [
       "array([1., 0., 0., ..., 1., 0., 1.])"
      ]
     },
     "execution_count": 101,
     "metadata": {},
     "output_type": "execute_result"
    }
   ],
   "source": [
    "predictions = classifier.predict(test_vectorizer.toarray())\n",
    "predictions"
   ]
  },
  {
   "cell_type": "code",
   "execution_count": 102,
   "metadata": {},
   "outputs": [
    {
     "name": "stdout",
     "output_type": "stream",
     "text": [
      "              precision    recall  f1-score   support\n",
      "\n",
      "         0.0       0.72      0.62      0.66      1086\n",
      "         1.0       0.65      0.75      0.70      1047\n",
      "\n",
      "    accuracy                           0.68      2133\n",
      "   macro avg       0.69      0.68      0.68      2133\n",
      "weighted avg       0.69      0.68      0.68      2133\n",
      "\n"
     ]
    }
   ],
   "source": [
    "report = classification_report(ytest,predictions)\n",
    "print(report)"
   ]
  },
  {
   "cell_type": "code",
   "execution_count": 103,
   "metadata": {},
   "outputs": [],
   "source": [
    "# a = input('write the review : ')\n",
    "# vector = vectorizer.transform([a]).toarray()\n",
    "# my_pred = classifier.predict(vector)\n",
    "# print(my_pred)"
   ]
  },
  {
   "cell_type": "code",
   "execution_count": 104,
   "metadata": {},
   "outputs": [
    {
     "data": {
      "text/plain": [
       "['Sentiment_vector.pkl']"
      ]
     },
     "execution_count": 104,
     "metadata": {},
     "output_type": "execute_result"
    }
   ],
   "source": [
    "import joblib\n",
    "model_filename = 'Sentiment_Analysis_model.pkl'\n",
    "vector_filename = 'Sentiment_vector.pkl'\n",
    "joblib.dump(classifier,model_filename)\n",
    "joblib.dump(vectorizer,vector_filename)"
   ]
  }
 ],
 "metadata": {
  "kernelspec": {
   "display_name": "Python 3",
   "language": "python",
   "name": "python3"
  },
  "language_info": {
   "codemirror_mode": {
    "name": "ipython",
    "version": 3
   },
   "file_extension": ".py",
   "mimetype": "text/x-python",
   "name": "python",
   "nbconvert_exporter": "python",
   "pygments_lexer": "ipython3",
   "version": "3.8.3"
  }
 },
 "nbformat": 4,
 "nbformat_minor": 4
}
